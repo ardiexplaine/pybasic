{
 "cells": [
  {
   "cell_type": "code",
   "execution_count": 1,
   "metadata": {},
   "outputs": [
    {
     "name": "stdout",
     "output_type": "stream",
     "text": [
      "Masukkan jari-jari lingkaran : 45\n",
      "Luas lingkaran dengan jari-jari 45 cm adalah 6364.29 cm²\n"
     ]
    }
   ],
   "source": [
    "r = int(input(\"Masukkan jari-jari lingkaran : \"))\n",
    "pi = 22/7\n",
    "luaslingkaran = r * r * pi\n",
    "print(f\"Luas lingkaran dengan jari-jari {r} cm adalah {'{0:.2f}'.format(luaslingkaran)} cm\\u00b2\")"
   ]
  }
 ],
 "metadata": {
  "kernelspec": {
   "display_name": "Python 3",
   "language": "python",
   "name": "python3"
  },
  "language_info": {
   "codemirror_mode": {
    "name": "ipython",
    "version": 3
   },
   "file_extension": ".py",
   "mimetype": "text/x-python",
   "name": "python",
   "nbconvert_exporter": "python",
   "pygments_lexer": "ipython3",
   "version": "3.8.5"
  }
 },
 "nbformat": 4,
 "nbformat_minor": 4
}

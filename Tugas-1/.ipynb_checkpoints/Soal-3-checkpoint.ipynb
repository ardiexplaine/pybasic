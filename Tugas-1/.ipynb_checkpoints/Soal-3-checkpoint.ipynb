{
 "cells": [
  {
   "cell_type": "code",
   "execution_count": 1,
   "metadata": {},
   "outputs": [
    {
     "name": "stdout",
     "output_type": "stream",
     "text": [
      "Masukkan nilai Ujian Teori Anda : 6\n",
      "Masukkan nilai Ujian Praktek Anda : 3\n",
      "Anda harus mengulang ujian teori dan praktek.\n"
     ]
    }
   ],
   "source": [
    "teori = int(input(\"Masukkan nilai Ujian Teori Anda : \"))\n",
    "praktek = int(input(\"Masukkan nilai Ujian Praktek Anda : \"))\n",
    "\n",
    "if teori >= 70 and praktek >= 70:\n",
    "    print(\"Selamat, anda lulus!\")\n",
    "elif teori >= 70 and praktek < 70:\n",
    "    print(\"Anda harus mengulang ujian praktek.\")\n",
    "elif teori < 70 and praktek >= 70:\n",
    "    print(\"Anda harus mengulang ujian teori.\")\n",
    "else:\n",
    "    print(\"Anda harus mengulang ujian teori dan praktek.\")"
   ]
  }
 ],
 "metadata": {
  "kernelspec": {
   "display_name": "Python 3",
   "language": "python",
   "name": "python3"
  },
  "language_info": {
   "codemirror_mode": {
    "name": "ipython",
    "version": 3
   },
   "file_extension": ".py",
   "mimetype": "text/x-python",
   "name": "python",
   "nbconvert_exporter": "python",
   "pygments_lexer": "ipython3",
   "version": "3.8.5"
  }
 },
 "nbformat": 4,
 "nbformat_minor": 4
}

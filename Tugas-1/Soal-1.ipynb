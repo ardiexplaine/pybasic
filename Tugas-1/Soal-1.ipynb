{
 "cells": [
  {
   "cell_type": "code",
   "execution_count": 4,
   "metadata": {},
   "outputs": [
    {
     "name": "stdout",
     "output_type": "stream",
     "text": [
      "siapa nama anda? asd\n",
      "berapa umur anda? 2\n",
      "berapa tinggi anda? 2\n",
      "Nama saya asd, umur saya 2 tahun dan tinggi saya 2.0 cm.\n"
     ]
    }
   ],
   "source": [
    "Nama = input(\"siapa nama anda? \") \n",
    "Umur = int(input(\"berapa umur anda? \"))\n",
    "Tinggi = float(input(\"berapa tinggi anda? \"))\n",
    "print(f\"Nama saya {Nama}, umur saya {Umur} tahun dan tinggi saya {Tinggi} cm.\")"
   ]
  }
 ],
 "metadata": {
  "kernelspec": {
   "display_name": "Python 3",
   "language": "python",
   "name": "python3"
  },
  "language_info": {
   "codemirror_mode": {
    "name": "ipython",
    "version": 3
   },
   "file_extension": ".py",
   "mimetype": "text/x-python",
   "name": "python",
   "nbconvert_exporter": "python",
   "pygments_lexer": "ipython3",
   "version": "3.8.5"
  }
 },
 "nbformat": 4,
 "nbformat_minor": 4
}

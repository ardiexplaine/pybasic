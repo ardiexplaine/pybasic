{
 "cells": [
  {
   "cell_type": "code",
   "execution_count": 1,
   "metadata": {},
   "outputs": [
    {
     "name": "stdout",
     "output_type": "stream",
     "text": [
      "Hello world python\n"
     ]
    }
   ],
   "source": [
    "print(\"Hello world python\")"
   ]
  },
  {
   "cell_type": "code",
   "execution_count": 3,
   "metadata": {},
   "outputs": [
    {
     "name": "stdout",
     "output_type": "stream",
     "text": [
      "selamat pagi,selamat siang,selamat sore\n"
     ]
    }
   ],
   "source": [
    "#variable\n",
    "satu = \"selamat pagi\"\n",
    "satu2 = \"selamat siang\"\n",
    "satu_tiga = \"selamat sore\"\n",
    "\n",
    "print(satu, satu2, satu_tiga, sep=',')"
   ]
  },
  {
   "cell_type": "code",
   "execution_count": 5,
   "metadata": {},
   "outputs": [
    {
     "name": "stdout",
     "output_type": "stream",
     "text": [
      "Benar\n"
     ]
    }
   ],
   "source": [
    "modul1=10\n",
    "modul2=2\n",
    "modul3= modul1 % modul2\n",
    "\n",
    "if (modul1 % 2 ==0): # jika nilai habis dibagi 2\n",
    "    print(\"Benar\")"
   ]
  },
  {
   "cell_type": "code",
   "execution_count": 6,
   "metadata": {},
   "outputs": [
    {
     "name": "stdout",
     "output_type": "stream",
     "text": [
      "3318462988691948907650286963263936624986304603548631220018837549610370323146990243798546901044939902470099862517164959369\n"
     ]
    }
   ],
   "source": [
    "expo = 67\n",
    "expo1 = 66\n",
    "expo2 = expo ** expo1\n",
    "print(expo2)"
   ]
  }
 ],
 "metadata": {
  "kernelspec": {
   "display_name": "Python 3",
   "language": "python",
   "name": "python3"
  },
  "language_info": {
   "codemirror_mode": {
    "name": "ipython",
    "version": 3
   },
   "file_extension": ".py",
   "mimetype": "text/x-python",
   "name": "python",
   "nbconvert_exporter": "python",
   "pygments_lexer": "ipython3",
   "version": "3.8.5"
  }
 },
 "nbformat": 4,
 "nbformat_minor": 4
}
